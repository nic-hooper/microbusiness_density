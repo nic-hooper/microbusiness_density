{
 "cells": [
  {
   "cell_type": "code",
   "execution_count": 46,
   "metadata": {},
   "outputs": [],
   "source": [
    "import pandas as pd\n",
    "from sklearn.linear_model import LinearRegression, Ridge\n",
    "from sklearn.kernel_ridge import KernelRidge\n",
    "from sklearn.tree import DecisionTreeRegressor\n",
    "from sklearn.ensemble import GradientBoostingRegressor\n",
    "from sklearn.neighbors import KNeighborsRegressor\n",
    "from sklearn.model_selection import train_test_split\n",
    "from sklearn.metrics import mean_squared_error, r2_score, max_error\n",
    "import random\n",
    "import numpy as np"
   ]
  },
  {
   "cell_type": "code",
   "execution_count": 47,
   "metadata": {},
   "outputs": [],
   "source": [
    "mbd = pd.read_csv(\"MBD_CFIP_20monthlag.csv\")\n",
    "\n",
    "# Dropping rows from CFIPS #28055 which contains values of 0, in order to calculate SMAPE\n",
    "mbd = mbd.drop(mbd[mbd[\"CFIP\"]==28055].index)\n",
    "mbd = mbd.to_numpy()"
   ]
  },
  {
   "cell_type": "code",
   "execution_count": 48,
   "metadata": {},
   "outputs": [],
   "source": [
    "# train/test split\n",
    "X = mbd[:,2:-1]\n",
    "y = mbd[:,-1]\n",
    "X_train, X_test, y_train, y_test = train_test_split(X, y, test_size=0.2, random_state=42)"
   ]
  },
  {
   "cell_type": "code",
   "execution_count": 49,
   "metadata": {},
   "outputs": [],
   "source": [
    "# SMAPE method for evaluation\n",
    "def smape(y_test, y_pred):\n",
    "    numerator = np.abs(y_test-y_pred)\n",
    "    denominator = (y_test + np.abs(y_pred)) /200\n",
    "    return np.mean(np.divide(numerator,denominator))"
   ]
  },
  {
   "cell_type": "code",
   "execution_count": 50,
   "metadata": {},
   "outputs": [
    {
     "name": "stdout",
     "output_type": "stream",
     "text": [
      "SMAPE: 6.61455788\n"
     ]
    }
   ],
   "source": [
    "# baseline with no model. predictions made by averaging the predictors\n",
    "\n",
    "y_pred = []\n",
    "for obs in X_test:\n",
    "    pred = np.mean(obs)\n",
    "    y_pred.append(pred)\n",
    "\n",
    "print(\"SMAPE: %.8f\" % smape(y_test, y_pred))"
   ]
  },
  {
   "cell_type": "code",
   "execution_count": 51,
   "metadata": {},
   "outputs": [
    {
     "name": "stdout",
     "output_type": "stream",
     "text": [
      "Coefficients: \n",
      " [-8.11233736e-03  7.82530741e-04  1.45637591e-02  8.55830140e-01\n",
      " -8.23285392e-01 -2.33825041e-03  1.04753178e-02 -8.91073783e-02\n",
      "  3.31735126e-02 -1.09070745e-03  1.53199216e-02 -2.39708676e-02\n",
      " -3.50060223e-02  2.55126897e-02 -2.86659450e-03  3.03596329e-02\n",
      " -7.18634911e-02  1.04116097e-01 -1.47989350e-02  9.88816403e-01]\n",
      "Mean squared error: 0.13935522\n",
      "Coefficient of determination: 0.99646098\n",
      "SMAPE: 2.79810986\n"
     ]
    }
   ],
   "source": [
    "# linear regression\n",
    "regr = LinearRegression()\n",
    "regr.fit(X_train, y_train)\n",
    "y_pred = regr.predict(X_test)\n",
    "print(\"Coefficients: \\n\", regr.coef_)\n",
    "# The mean squared error\n",
    "print(\"Mean squared error: %.8f\" % mean_squared_error(y_test, y_pred))\n",
    "# The coefficient of determination: 1 is perfect prediction\n",
    "print(\"Coefficient of determination: %.8f\" % r2_score(y_test, y_pred))\n",
    "# The SMAPE\n",
    "print(\"SMAPE: %.8f\" % smape(y_test, y_pred))"
   ]
  },
  {
   "cell_type": "code",
   "execution_count": 52,
   "metadata": {},
   "outputs": [
    {
     "name": "stdout",
     "output_type": "stream",
     "text": [
      "Coefficients: \n",
      " [-8.11337363e-03  7.87818356e-04  1.45714952e-02  8.55793367e-01\n",
      " -8.23231349e-01 -2.36527309e-03  1.04714505e-02 -8.91040409e-02\n",
      "  3.31684425e-02 -1.08752674e-03  1.53188600e-02 -2.39717366e-02\n",
      " -3.50038611e-02  2.55091377e-02 -2.86326635e-03  3.03566472e-02\n",
      " -7.18598380e-02  1.04116470e-01 -1.47794479e-02  9.88795484e-01]\n",
      "Mean squared error: 0.13936157\n",
      "Coefficient of determination: 0.99646082\n",
      "SMAPE: 2.79806053\n"
     ]
    }
   ],
   "source": [
    "# ridge regression\n",
    "\n",
    "clf = Ridge(alpha=0.5)\n",
    "clf.fit(X_train, y_train)\n",
    "y_pred_ridge = clf.predict(X_test)\n",
    "\n",
    "print(\"Coefficients: \\n\", clf.coef_)\n",
    "# The mean squared error\n",
    "print(\"Mean squared error: %.8f\" % mean_squared_error(y_test, y_pred_ridge))\n",
    "# The coefficient of determination: 1 is perfect prediction\n",
    "print(\"Coefficient of determination: %.8f\" % r2_score(y_test, y_pred_ridge))\n",
    "# The SMAPE\n",
    "print(\"SMAPE: %.8f\" % smape(y_test, y_pred_ridge))"
   ]
  },
  {
   "cell_type": "code",
   "execution_count": 53,
   "metadata": {},
   "outputs": [
    {
     "name": "stdout",
     "output_type": "stream",
     "text": [
      "Mean squared error: 0.13945667\n",
      "Coefficient of determination: 0.99645840\n",
      "SMAPE: 2.77427250\n"
     ]
    }
   ],
   "source": [
    "# kernel\n",
    "\n",
    "kern = KernelRidge(alpha=0.5)\n",
    "kern.fit(X_train, y_train)\n",
    "y_pred_kernel = kern.predict(X_test)\n",
    "\n",
    "\n",
    "# The mean squared error\n",
    "print(\"Mean squared error: %.8f\" % mean_squared_error(y_test, y_pred_kernel))\n",
    "# The coefficient of determination: 1 is perfect prediction\n",
    "print(\"Coefficient of determination: %.8f\" % r2_score(y_test, y_pred_kernel))\n",
    "# The SMAPE\n",
    "print(\"SMAPE: %.8f\" % smape(y_test, y_pred_kernel))"
   ]
  },
  {
   "cell_type": "code",
   "execution_count": 54,
   "metadata": {},
   "outputs": [
    {
     "name": "stdout",
     "output_type": "stream",
     "text": [
      "SMAPE: 2.09456683\n"
     ]
    }
   ],
   "source": [
    "# gradient boosting regressor\n",
    "\n",
    "gbr = GradientBoostingRegressor()\n",
    "gbr.fit(X_train,y_train)\n",
    "y_pred_gbr = gbr.predict(X_test)\n",
    "\n",
    "# The SMAPE\n",
    "print(\"SMAPE: %.8f\" % smape(y_test, y_pred_gbr))"
   ]
  },
  {
   "cell_type": "code",
   "execution_count": 55,
   "metadata": {},
   "outputs": [
    {
     "name": "stdout",
     "output_type": "stream",
     "text": [
      "SMAPE: 2.58439923\n"
     ]
    }
   ],
   "source": [
    "# knn regressor\n",
    "knn = KNeighborsRegressor()\n",
    "knn.fit(X_train,y_train)\n",
    "y_pred_knn = knn.predict(X_test)\n",
    "\n",
    "# The SMAPE\n",
    "print(\"SMAPE: %.8f\" % smape(y_test, y_pred_knn))"
   ]
  },
  {
   "cell_type": "code",
   "execution_count": 56,
   "metadata": {},
   "outputs": [],
   "source": [
    "from sklearn.preprocessing import MinMaxScaler\n",
    "from keras.models import Sequential\n",
    "from keras.layers import LSTM, Dense\n",
    "import matplotlib.pyplot as plt\n",
    "\n",
    "# Normalize the input data\n",
    "scaler = MinMaxScaler(feature_range=(0, 1))\n",
    "X_train = scaler.fit_transform(X_train)\n",
    "X_test = scaler.transform(X_test)\n",
    "\n",
    "# Reshape the input data into a 3D array [samples, timesteps, features]\n",
    "X_train = X_train.reshape(X_train.shape[0], 1, X_train.shape[1])\n",
    "X_test = X_test.reshape(X_test.shape[0], 1, X_test.shape[1])\n"
   ]
  },
  {
   "cell_type": "code",
   "execution_count": 57,
   "metadata": {},
   "outputs": [
    {
     "name": "stdout",
     "output_type": "stream",
     "text": [
      "Epoch 1/50\n",
      "1332/1332 [==============================] - 5s 2ms/step - loss: 22.8145 - val_loss: 21.5119\n",
      "Epoch 2/50\n",
      "1332/1332 [==============================] - 2s 2ms/step - loss: 12.3749 - val_loss: 19.1097\n",
      "Epoch 3/50\n",
      "1332/1332 [==============================] - 2s 2ms/step - loss: 10.4905 - val_loss: 17.1832\n",
      "Epoch 4/50\n",
      "1332/1332 [==============================] - 2s 2ms/step - loss: 8.9354 - val_loss: 15.5654\n",
      "Epoch 5/50\n",
      "1332/1332 [==============================] - 2s 2ms/step - loss: 7.6644 - val_loss: 14.1798\n",
      "Epoch 6/50\n",
      "1332/1332 [==============================] - 2s 2ms/step - loss: 6.7258 - val_loss: 13.0929\n",
      "Epoch 7/50\n",
      "1332/1332 [==============================] - 2s 2ms/step - loss: 5.9939 - val_loss: 12.1578\n",
      "Epoch 8/50\n",
      "1332/1332 [==============================] - 2s 2ms/step - loss: 5.3827 - val_loss: 11.2957\n",
      "Epoch 9/50\n",
      "1332/1332 [==============================] - 2s 2ms/step - loss: 4.8690 - val_loss: 10.5496\n",
      "Epoch 10/50\n",
      "1332/1332 [==============================] - 2s 2ms/step - loss: 4.4691 - val_loss: 9.9442\n",
      "Epoch 11/50\n",
      "1332/1332 [==============================] - 2s 2ms/step - loss: 4.1351 - val_loss: 9.3891\n",
      "Epoch 12/50\n",
      "1332/1332 [==============================] - 2s 2ms/step - loss: 3.8565 - val_loss: 8.8900\n",
      "Epoch 13/50\n",
      "1332/1332 [==============================] - 2s 2ms/step - loss: 3.6122 - val_loss: 8.4617\n",
      "Epoch 14/50\n",
      "1332/1332 [==============================] - 2s 2ms/step - loss: 3.4042 - val_loss: 8.1153\n",
      "Epoch 15/50\n",
      "1332/1332 [==============================] - 2s 2ms/step - loss: 3.2296 - val_loss: 7.6913\n",
      "Epoch 16/50\n",
      "1332/1332 [==============================] - 2s 2ms/step - loss: 3.0863 - val_loss: 7.4144\n",
      "Epoch 17/50\n",
      "1332/1332 [==============================] - 2s 2ms/step - loss: 2.9717 - val_loss: 7.1179\n",
      "Epoch 18/50\n",
      "1332/1332 [==============================] - 2s 2ms/step - loss: 2.8560 - val_loss: 6.8709\n",
      "Epoch 19/50\n",
      "1332/1332 [==============================] - 2s 2ms/step - loss: 2.7568 - val_loss: 6.5868\n",
      "Epoch 20/50\n",
      "1332/1332 [==============================] - 2s 2ms/step - loss: 2.6515 - val_loss: 6.3443\n",
      "Epoch 21/50\n",
      "1332/1332 [==============================] - 2s 2ms/step - loss: 2.5570 - val_loss: 6.1224\n",
      "Epoch 22/50\n",
      "1332/1332 [==============================] - 2s 2ms/step - loss: 2.4651 - val_loss: 5.9214\n",
      "Epoch 23/50\n",
      "1332/1332 [==============================] - 2s 2ms/step - loss: 2.3794 - val_loss: 5.7038\n",
      "Epoch 24/50\n",
      "1332/1332 [==============================] - 2s 2ms/step - loss: 2.2901 - val_loss: 5.4935\n",
      "Epoch 25/50\n",
      "1332/1332 [==============================] - 2s 2ms/step - loss: 2.2070 - val_loss: 5.3137\n",
      "Epoch 26/50\n",
      "1332/1332 [==============================] - 2s 2ms/step - loss: 2.1365 - val_loss: 5.0854\n",
      "Epoch 27/50\n",
      "1332/1332 [==============================] - 2s 2ms/step - loss: 2.0636 - val_loss: 4.8985\n",
      "Epoch 28/50\n",
      "1332/1332 [==============================] - 2s 2ms/step - loss: 2.0041 - val_loss: 4.7365\n",
      "Epoch 29/50\n",
      "1332/1332 [==============================] - 2s 2ms/step - loss: 1.9376 - val_loss: 4.5665\n",
      "Epoch 30/50\n",
      "1332/1332 [==============================] - 2s 2ms/step - loss: 1.8838 - val_loss: 4.3917\n",
      "Epoch 31/50\n",
      "1332/1332 [==============================] - 2s 2ms/step - loss: 1.8228 - val_loss: 4.2344\n",
      "Epoch 32/50\n",
      "1332/1332 [==============================] - 2s 2ms/step - loss: 1.7740 - val_loss: 4.0725\n",
      "Epoch 33/50\n",
      "1332/1332 [==============================] - 2s 2ms/step - loss: 1.7228 - val_loss: 3.9388\n",
      "Epoch 34/50\n",
      "1332/1332 [==============================] - 2s 2ms/step - loss: 1.6722 - val_loss: 3.7716\n",
      "Epoch 35/50\n",
      "1332/1332 [==============================] - 2s 2ms/step - loss: 1.6237 - val_loss: 3.6247\n",
      "Epoch 36/50\n",
      "1332/1332 [==============================] - 2s 2ms/step - loss: 1.5823 - val_loss: 3.4813\n",
      "Epoch 37/50\n",
      "1332/1332 [==============================] - 2s 2ms/step - loss: 1.5360 - val_loss: 3.3474\n",
      "Epoch 38/50\n",
      "1332/1332 [==============================] - 2s 2ms/step - loss: 1.4943 - val_loss: 3.1997\n",
      "Epoch 39/50\n",
      "1332/1332 [==============================] - 2s 2ms/step - loss: 1.4576 - val_loss: 3.0873\n",
      "Epoch 40/50\n",
      "1332/1332 [==============================] - 2s 2ms/step - loss: 1.4185 - val_loss: 2.9970\n",
      "Epoch 41/50\n",
      "1332/1332 [==============================] - 2s 2ms/step - loss: 1.3802 - val_loss: 2.8415\n",
      "Epoch 42/50\n",
      "1332/1332 [==============================] - 2s 2ms/step - loss: 1.3421 - val_loss: 2.7488\n",
      "Epoch 43/50\n",
      "1332/1332 [==============================] - 2s 2ms/step - loss: 1.3132 - val_loss: 2.6270\n",
      "Epoch 44/50\n",
      "1332/1332 [==============================] - 2s 2ms/step - loss: 1.2821 - val_loss: 2.5314\n",
      "Epoch 45/50\n",
      "1332/1332 [==============================] - 2s 2ms/step - loss: 1.2443 - val_loss: 2.4802\n",
      "Epoch 46/50\n",
      "1332/1332 [==============================] - 2s 2ms/step - loss: 1.2154 - val_loss: 2.3632\n",
      "Epoch 47/50\n",
      "1332/1332 [==============================] - 2s 2ms/step - loss: 1.1823 - val_loss: 2.2655\n",
      "Epoch 48/50\n",
      "1332/1332 [==============================] - 2s 2ms/step - loss: 1.1518 - val_loss: 2.2035\n",
      "Epoch 49/50\n",
      "1332/1332 [==============================] - 2s 2ms/step - loss: 1.1203 - val_loss: 2.1398\n",
      "Epoch 50/50\n",
      "1332/1332 [==============================] - 2s 2ms/step - loss: 1.0944 - val_loss: 2.0434\n"
     ]
    },
    {
     "data": {
      "image/png": "[encoded data removed]",
      "text/plain": [
       "<Figure size 640x480 with 1 Axes>"
      ]
     },
     "metadata": {},
     "output_type": "display_data"
    }
   ],
   "source": [
    "# Create the LSTM model\n",
    "model = Sequential()\n",
    "model.add(LSTM(32, input_shape=(1, 20)))\n",
    "model.add(Dense(1))\n",
    "\n",
    "# Compile the model\n",
    "model.compile(loss='mean_squared_error', optimizer='adam')\n",
    "\n",
    "# Train the model and track loss history\n",
    "history = model.fit(X_train, y_train, epochs=50, batch_size=32, validation_data=(X_test, y_test))\n",
    "\n",
    "# Plot the train and test loss over epochs\n",
    "plt.plot(history.history['loss'], label='Train Loss')\n",
    "plt.plot(history.history['val_loss'], label='Test Loss')\n",
    "plt.xlabel('Epoch')\n",
    "plt.ylabel('Loss')\n",
    "plt.legend()\n",
    "plt.show()"
   ]
  },
  {
   "cell_type": "code",
   "execution_count": 58,
   "metadata": {},
   "outputs": [
    {
     "name": "stdout",
     "output_type": "stream",
     "text": [
      "333/333 [==============================] - 1s 787us/step\n",
      "RMSE: 1.4294631994972218\n",
      "SMAPE: 3.05179091\n"
     ]
    }
   ],
   "source": [
    "# Make predictions\n",
    "y_pred_LSTM = model.predict(X_test)\n",
    "\n",
    "# Reshape the predictions\n",
    "y_pred_LSTM = y_pred_LSTM.reshape(y_pred_LSTM.shape[0])\n",
    "\n",
    "# Calculate the root mean squared error (RMSE)\n",
    "rmse = np.sqrt(np.mean((y_pred_LSTM - y_test) ** 2))\n",
    "print(\"RMSE:\", rmse)\n",
    "print(\"SMAPE: %.8f\" % smape(y_test, y_pred_LSTM))"
   ]
  },
  {
   "cell_type": "code",
   "execution_count": null,
   "metadata": {},
   "outputs": [],
   "source": []
  }
 ],
 "metadata": {
  "kernelspec": {
   "display_name": "Python 3",
   "language": "python",
   "name": "python3"
  },
  "language_info": {
   "codemirror_mode": {
    "name": "ipython",
    "version": 3
   },
   "file_extension": ".py",
   "mimetype": "text/x-python",
   "name": "python",
   "nbconvert_exporter": "python",
   "pygments_lexer": "ipython3",
   "version": "3.11.0"
  },
  "orig_nbformat": 4
 },
 "nbformat": 4,
 "nbformat_minor": 2
}
