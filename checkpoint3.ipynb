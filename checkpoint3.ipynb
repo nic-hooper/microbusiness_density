{
 "cells": [
  {
   "cell_type": "code",
   "execution_count": 34,
   "metadata": {},
   "outputs": [],
   "source": [
    "import pandas as pd\n",
    "from sklearn.linear_model import LinearRegression, Ridge\n",
    "from sklearn.kernel_ridge import KernelRidge\n",
    "from sklearn.tree import DecisionTreeRegressor\n",
    "from sklearn.ensemble import GradientBoostingRegressor\n",
    "from sklearn.neural_network import MLPRegressor\n",
    "from sklearn.model_selection import train_test_split\n",
    "from sklearn.metrics import mean_squared_error, r2_score, max_error\n",
    "import random\n",
    "import numpy as np"
   ]
  },
  {
   "cell_type": "code",
   "execution_count": 21,
   "metadata": {},
   "outputs": [],
   "source": [
    "mbd = pd.read_csv(\"MBD_CFIP_20monthlag.csv\")\n",
    "mbd = mbd.to_numpy()"
   ]
  },
  {
   "cell_type": "code",
   "execution_count": 22,
   "metadata": {},
   "outputs": [],
   "source": [
    "# train/test split\n",
    "X = mbd[:,2:-1]\n",
    "y = mbd[:,-1]\n",
    "X_train, X_test, y_train, y_test = train_test_split(X, y, test_size=0.2)"
   ]
  },
  {
   "cell_type": "code",
   "execution_count": 23,
   "metadata": {},
   "outputs": [],
   "source": [
    "# SMAPE method for evaluation\n",
    "def smape(y_test, y_pred):\n",
    "    numerator = np.abs(y_test-y_pred)\n",
    "    denominator = (y_test + np.abs(y_pred)) /200\n",
    "    return np.mean(numerator/denominator)"
   ]
  },
  {
   "cell_type": "code",
   "execution_count": 8,
   "metadata": {},
   "outputs": [
    {
     "name": "stdout",
     "output_type": "stream",
     "text": [
      "SMAPE: 6.54930402\n"
     ]
    }
   ],
   "source": [
    "# baseline with no model. predictions made by averaging the predictors\n",
    "\n",
    "y_pred = []\n",
    "for obs in X_test:\n",
    "    pred = np.mean(obs)\n",
    "    y_pred.append(pred)\n",
    "\n",
    "print(\"SMAPE: %.8f\" % smape(y_test, y_pred))"
   ]
  },
  {
   "cell_type": "code",
   "execution_count": 9,
   "metadata": {},
   "outputs": [
    {
     "name": "stdout",
     "output_type": "stream",
     "text": [
      "Coefficients: \n",
      " [-0.01596354 -0.01583519  0.07535571  0.87028049 -0.84683723 -0.02839363\n",
      " -0.00253333 -0.0766711   0.03250409 -0.00720642  0.01937076 -0.01103107\n",
      " -0.03394624  0.01858472 -0.0033079   0.03385775 -0.07751818  0.06346416\n",
      "  0.04346912  0.96908421]\n",
      "Mean squared error: 0.35632800\n",
      "Coefficient of determination: 0.98943040\n",
      "SMAPE: 2.95944509\n"
     ]
    }
   ],
   "source": [
    "# linear regression\n",
    "regr = LinearRegression()\n",
    "regr.fit(X_train, y_train)\n",
    "y_pred = regr.predict(X_test)\n",
    "print(\"Coefficients: \\n\", regr.coef_)\n",
    "# The mean squared error\n",
    "print(\"Mean squared error: %.8f\" % mean_squared_error(y_test, y_pred))\n",
    "# The coefficient of determination: 1 is perfect prediction\n",
    "print(\"Coefficient of determination: %.8f\" % r2_score(y_test, y_pred))\n",
    "# The SMAPE\n",
    "print(\"SMAPE: %.8f\" % smape(y_test, y_pred))"
   ]
  },
  {
   "cell_type": "code",
   "execution_count": 17,
   "metadata": {},
   "outputs": [
    {
     "name": "stdout",
     "output_type": "stream",
     "text": [
      "Coefficients: \n",
      " [-0.01759878 -0.00606177  0.02808749  0.95683365 -0.96293702  0.0310421\n",
      " -0.00918779 -0.07774767  0.07342838 -0.02727953  0.01182001 -0.03078566\n",
      "  0.011391   -0.00430099 -0.0127546   0.0416841  -0.07653172  0.06523247\n",
      "  0.01478216  0.99394433]\n",
      "Mean squared error: 0.49301848\n",
      "Coefficient of determination: 0.98762319\n",
      "SMAPE: 2.97157731\n"
     ]
    }
   ],
   "source": [
    "# ridge regression\n",
    "\n",
    "clf = Ridge(alpha=0.5)\n",
    "clf.fit(X_train, y_train)\n",
    "y_pred_ridge = clf.predict(X_test)\n",
    "\n",
    "print(\"Coefficients: \\n\", clf.coef_)\n",
    "# The mean squared error\n",
    "print(\"Mean squared error: %.8f\" % mean_squared_error(y_test, y_pred_ridge))\n",
    "# The coefficient of determination: 1 is perfect prediction\n",
    "print(\"Coefficient of determination: %.8f\" % r2_score(y_test, y_pred_ridge))\n",
    "# The SMAPE\n",
    "print(\"SMAPE: %.8f\" % smape(y_test, y_pred_ridge))"
   ]
  },
  {
   "cell_type": "code",
   "execution_count": 33,
   "metadata": {},
   "outputs": [
    {
     "name": "stdout",
     "output_type": "stream",
     "text": [
      "Mean squared error: 1.46180896\n",
      "Coefficient of determination: 0.96284832\n",
      "SMAPE: 3.35358495\n"
     ]
    }
   ],
   "source": [
    "# kernel\n",
    "\n",
    "kern = KernelRidge(alpha=0.5)\n",
    "kern.fit(X_train, y_train)\n",
    "y_pred_kernel = kern.predict(X_test)\n",
    "\n",
    "\n",
    "# The mean squared error\n",
    "print(\"Mean squared error: %.8f\" % mean_squared_error(y_test, y_pred_kernel))\n",
    "# The coefficient of determination: 1 is perfect prediction\n",
    "print(\"Coefficient of determination: %.8f\" % r2_score(y_test, y_pred_kernel))\n",
    "# The SMAPE\n",
    "print(\"SMAPE: %.8f\" % smape(y_test, y_pred_kernel))"
   ]
  },
  {
   "cell_type": "code",
   "execution_count": 18,
   "metadata": {},
   "outputs": [
    {
     "name": "stdout",
     "output_type": "stream",
     "text": [
      "SMAPE: nan\n"
     ]
    },
    {
     "name": "stderr",
     "output_type": "stream",
     "text": [
      "C:\\Users\\nicho\\AppData\\Local\\Temp\\ipykernel_7940\\564664135.py:5: RuntimeWarning: invalid value encountered in divide\n",
      "  return np.mean(numerator/denominator)\n"
     ]
    }
   ],
   "source": [
    "# decision tree regressor\n",
    "\n",
    "tree = DecisionTreeRegressor(random_state=42)\n",
    "tree.fit(X_train,y_train)\n",
    "y_pred_tree = tree.predict(X_test)\n",
    "\n",
    "# The SMAPE\n",
    "print(\"SMAPE: %.8f\" % smape(y_test, y_pred_tree))"
   ]
  },
  {
   "cell_type": "code",
   "execution_count": 25,
   "metadata": {},
   "outputs": [
    {
     "name": "stdout",
     "output_type": "stream",
     "text": [
      "SMAPE: 2.15732004\n"
     ]
    }
   ],
   "source": [
    "# gradient boosting regressor\n",
    "\n",
    "gbr = GradientBoostingRegressor()\n",
    "gbr.fit(X_train,y_train)\n",
    "y_pred_gbr = gbr.predict(X_test)\n",
    "\n",
    "# The SMAPE\n",
    "print(\"SMAPE: %.8f\" % smape(y_test, y_pred_gbr))"
   ]
  },
  {
   "cell_type": "code",
   "execution_count": 32,
   "metadata": {},
   "outputs": [
    {
     "name": "stdout",
     "output_type": "stream",
     "text": [
      "SMAPE: 4.44827606\n"
     ]
    }
   ],
   "source": [
    "# multi-layer perceptron regressor\n",
    "nn = MLPRegressor()\n",
    "nn.fit(X_train,y_train)\n",
    "y_pred_nn = nn.predict(X_test)\n",
    "\n",
    "# The SMAPE\n",
    "print(\"SMAPE: %.8f\" % smape(y_test, y_pred_nn))"
   ]
  },
  {
   "cell_type": "code",
   "execution_count": null,
   "metadata": {},
   "outputs": [],
   "source": []
  }
 ],
 "metadata": {
  "kernelspec": {
   "display_name": "Python 3",
   "language": "python",
   "name": "python3"
  },
  "language_info": {
   "codemirror_mode": {
    "name": "ipython",
    "version": 3
   },
   "file_extension": ".py",
   "mimetype": "text/x-python",
   "name": "python",
   "nbconvert_exporter": "python",
   "pygments_lexer": "ipython3",
   "version": "3.11.0"
  },
  "orig_nbformat": 4
 },
 "nbformat": 4,
 "nbformat_minor": 2
}
