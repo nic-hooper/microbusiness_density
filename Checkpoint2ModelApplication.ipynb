{
 "cells": [
  {
   "cell_type": "code",
   "execution_count": 8,
   "id": "fb5f6e13",
   "metadata": {},
   "outputs": [],
   "source": [
    "### import & init \n",
    "import pandas as pd\n",
    "from sklearn.linear_model import LinearRegression, Ridge\n",
    "from sklearn.kernel_ridge import KernelRidge\n",
    "from sklearn.model_selection import train_test_split\n",
    "from sklearn.metrics import mean_squared_error, r2_score, max_error\n",
    "import random\n",
    "import numpy as np\n",
    "\n",
    "\n",
    "mbd_file = 'mbd_train.csv'\n",
    "mbd = pd.read_csv(mbd_file)\n",
    "mbd['date_order'] = mbd.groupby(['cfips']).rank()['first_day_of_month'] - 1\n",
    "mbd = mbd.rename(columns={'microbusiness_density':'mbd'})"
   ]
  },
  {
   "cell_type": "code",
   "execution_count": 9,
   "id": "5303d318",
   "metadata": {},
   "outputs": [],
   "source": [
    "### pivot the data so that we can create the lag \n",
    "\n",
    "# get the cfips\n",
    "cfips = pd.unique(mbd['cfips'])\n",
    "# use 20 months of training to find the next months data\n",
    "train_number_months = 20\n",
    "# get a count of how many records we will create per cfip\n",
    "iterations_per_cfip = max(mbd['date_order']) - train_number_months\n",
    "# create dataframe to populate\n",
    "mbd_exploded = pd.DataFrame(columns=['cfips','iter'] + list(range(0,train_number_months)))\n",
    "# pivot the entire thing\n",
    "mbd_pivotted = mbd.pivot(index='cfips',columns='date_order',values='mbd')\n"
   ]
  },
  {
   "cell_type": "code",
   "execution_count": 10,
   "id": "956f1719",
   "metadata": {},
   "outputs": [],
   "source": [
    "### This is to create the lag\n",
    "\n",
    "\n",
    "# get the cfips\n",
    "cfips = pd.unique(mbd['cfips'])\n",
    "# use 20 months of training to find the next months data\n",
    "train_number_months = 20\n",
    "# get a count of how many records we will create per cfip\n",
    "iterations_per_cfip = max(mbd['date_order']) - train_number_months\n",
    "# create dataframe to populate\n",
    "mbd_exploded = pd.DataFrame(columns=['cfips','iter'] + list(range(0,train_number_months)))\n",
    "# pivot the entire thing\n",
    "mbd_pivotted = mbd.pivot(index='cfips',columns='date_order',values='mbd')\n",
    "# get the counties to loop thru\n",
    "cfips_to_loop = cfips\n",
    "# this is when we limit the counties randomly\n",
    "cfips_to_loop = random.sample(list(cfips), 1000)\n",
    "# just a list of possible starting months \n",
    "iters = list(range(0, int(iterations_per_cfip)))\n",
    "# how many samples per county - max = len(iters)\n",
    "samples_per_cfip = 10\n",
    "\n",
    "# init an empty array\n",
    "mbd_exploded_np = np.empty((len(cfips_to_loop)*samples_per_cfip, train_number_months))\n",
    "# this is the row iterator for the numpy array\n",
    "j = 0\n",
    "# loop thru each cfip\n",
    "for cfip in cfips_to_loop:\n",
    "    # for each cfip, get a random set of consecutive months to train on\n",
    "    random_i = random.sample(iters, samples_per_cfip)\n",
    "    \n",
    "    for i in random_i:\n",
    "        # get the columns we need\n",
    "        columns_to_grab = list(range(i,i+train_number_months))\n",
    "        # grab those columns from the pivotted df\n",
    "        to_append = mbd_pivotted.loc[[cfip],columns_to_grab]\n",
    "        # send it to a scalar array\n",
    "        to_append_np = to_append.to_numpy()\n",
    "        # chagne the big array's row to that row in question\n",
    "        mbd_exploded_np[j,:] = to_append_np\n",
    "\n",
    "        # iterate plus one\n",
    "        j += 1"
   ]
  },
  {
   "cell_type": "code",
   "execution_count": 11,
   "id": "f5acb052",
   "metadata": {},
   "outputs": [],
   "source": [
    "### test / train split\n",
    "\n",
    "# get rid of cfips & iter\n",
    "X = mbd_exploded_np\n",
    "y = X[:,-1]\n",
    "X = X[:,:-1]\n",
    "X_train, X_test, y_train, y_test = train_test_split(X, y, test_size=0.33)"
   ]
  },
  {
   "cell_type": "code",
   "execution_count": 12,
   "id": "49e8ed2e",
   "metadata": {},
   "outputs": [
    {
     "name": "stdout",
     "output_type": "stream",
     "text": [
      "Coefficients: \n",
      " [-2.13253568e-02  1.41516036e-02  2.83462453e-02  3.38695647e-02\n",
      " -4.91402101e-02 -3.77355593e-02 -2.61166404e-02  8.63414273e-02\n",
      " -5.93073206e-02 -2.10525595e-02  1.79635296e-02  7.80450054e-02\n",
      " -6.46830550e-02 -2.80130243e-02  1.61080481e-02 -4.08334179e-02\n",
      "  6.56258029e-02  5.37557335e-04  1.00944595e+00]\n",
      "Mean squared error: 0.11094970\n",
      "Coefficient of determination: 0.99864035\n"
     ]
    }
   ],
   "source": [
    "### linear model\n",
    "\n",
    "regr = LinearRegression()\n",
    "regr.fit(X_train, y_train)\n",
    "y_pred = regr.predict(X_test)\n",
    "print(\"Coefficients: \\n\", regr.coef_)\n",
    "# The mean squared error\n",
    "print(\"Mean squared error: %.8f\" % mean_squared_error(y_test, y_pred))\n",
    "# The coefficient of determination: 1 is perfect prediction\n",
    "print(\"Coefficient of determination: %.8f\" % r2_score(y_test, y_pred))"
   ]
  },
  {
   "cell_type": "code",
   "execution_count": 13,
   "id": "5ff00217",
   "metadata": {},
   "outputs": [
    {
     "name": "stdout",
     "output_type": "stream",
     "text": [
      "Coefficients: \n",
      " [-2.13108805e-02  1.41432056e-02  2.83155205e-02  3.37987748e-02\n",
      " -4.90379668e-02 -3.77403751e-02 -2.60639975e-02  8.62842441e-02\n",
      " -5.92836063e-02 -2.10591289e-02  1.79958951e-02  7.79086689e-02\n",
      " -6.45830293e-02 -2.79983746e-02  1.59985148e-02 -4.07471962e-02\n",
      "  6.55344177e-02  6.49733443e-04  1.00942374e+00]\n",
      "Mean squared error: 0.11083245\n",
      "Coefficient of determination: 0.99864179\n"
     ]
    }
   ],
   "source": [
    "### ridge model \n",
    "\n",
    "clf = Ridge(alpha=0.5)\n",
    "clf.fit(X_train, y_train)\n",
    "y_pred_ridge = clf.predict(X_test)\n",
    "\n",
    "print(\"Coefficients: \\n\", clf.coef_)\n",
    "# The mean squared error\n",
    "print(\"Mean squared error: %.8f\" % mean_squared_error(y_test, y_pred_ridge))\n",
    "# The coefficient of determination: 1 is perfect prediction\n",
    "print(\"Coefficient of determination: %.8f\" % r2_score(y_test, y_pred_ridge))"
   ]
  },
  {
   "cell_type": "code",
   "execution_count": 14,
   "id": "1101f5ce",
   "metadata": {},
   "outputs": [
    {
     "name": "stdout",
     "output_type": "stream",
     "text": [
      "Coefficients: \n",
      " [-2.13253568e-02  1.41516036e-02  2.83462453e-02  3.38695647e-02\n",
      " -4.91402101e-02 -3.77355593e-02 -2.61166404e-02  8.63414273e-02\n",
      " -5.93073206e-02 -2.10525595e-02  1.79635296e-02  7.80450054e-02\n",
      " -6.46830550e-02 -2.80130243e-02  1.61080481e-02 -4.08334179e-02\n",
      "  6.56258029e-02  5.37557335e-04  1.00944595e+00]\n",
      "Mean squared error: 0.11052272\n",
      "Coefficient of determination: 0.99864558\n"
     ]
    }
   ],
   "source": [
    "### kernel model\n",
    "\n",
    "kern = KernelRidge(alpha=0.5)\n",
    "kern.fit(X_train, y_train)\n",
    "y_pred_kernel = kern.predict(X_test)\n",
    "\n",
    "\n",
    "# The mean squared error\n",
    "print(\"Mean squared error: %.8f\" % mean_squared_error(y_test, y_pred_kernel))\n",
    "# The coefficient of determination: 1 is perfect prediction\n",
    "print(\"Coefficient of determination: %.8f\" % r2_score(y_test, y_pred_kernel))"
   ]
  },
  {
   "cell_type": "code",
   "execution_count": 16,
   "id": "e9d55d3f",
   "metadata": {},
   "outputs": [
    {
     "data": {
      "text/html": [
       "<div>\n",
       "<style scoped>\n",
       "    .dataframe tbody tr th:only-of-type {\n",
       "        vertical-align: middle;\n",
       "    }\n",
       "\n",
       "    .dataframe tbody tr th {\n",
       "        vertical-align: top;\n",
       "    }\n",
       "\n",
       "    .dataframe thead th {\n",
       "        text-align: right;\n",
       "    }\n",
       "</style>\n",
       "<table border=\"1\" class=\"dataframe\">\n",
       "  <thead>\n",
       "    <tr style=\"text-align: right;\">\n",
       "      <th></th>\n",
       "      <th>MSE</th>\n",
       "      <th>R-squared</th>\n",
       "      <th>Max Error</th>\n",
       "    </tr>\n",
       "  </thead>\n",
       "  <tbody>\n",
       "    <tr>\n",
       "      <th>OLS</th>\n",
       "      <td>0.11095</td>\n",
       "      <td>0.99864</td>\n",
       "      <td>12.17397</td>\n",
       "    </tr>\n",
       "    <tr>\n",
       "      <th>Ridge</th>\n",
       "      <td>0.110832</td>\n",
       "      <td>0.998642</td>\n",
       "      <td>12.161082</td>\n",
       "    </tr>\n",
       "    <tr>\n",
       "      <th>Kernel</th>\n",
       "      <td>0.110523</td>\n",
       "      <td>0.998646</td>\n",
       "      <td>12.150024</td>\n",
       "    </tr>\n",
       "  </tbody>\n",
       "</table>\n",
       "</div>"
      ],
      "text/plain": [
       "             MSE R-squared  Max Error\n",
       "OLS      0.11095   0.99864   12.17397\n",
       "Ridge   0.110832  0.998642  12.161082\n",
       "Kernel  0.110523  0.998646  12.150024"
      ]
     },
     "execution_count": 16,
     "metadata": {},
     "output_type": "execute_result"
    }
   ],
   "source": [
    "### model comparisons\n",
    "\n",
    "mse_linear = mean_squared_error(y_test, y_pred)\n",
    "mse_ridge = mean_squared_error(y_test, y_pred_ridge)\n",
    "mse_kernel = mean_squared_error(y_test, y_pred_kernel)\n",
    "\n",
    "r2_linear = r2_score(y_test, y_pred)\n",
    "r2_ridge = r2_score(y_test, y_pred_ridge)\n",
    "r2_kernel = r2_score(y_test, y_pred_kernel)\n",
    "\n",
    "maxE_linear = max_error(y_test, y_pred)\n",
    "maxE_ridge = max_error(y_test, y_pred_ridge)\n",
    "maxE_kernel = max_error(y_test, y_pred_kernel)\n",
    "\n",
    "\n",
    "\n",
    "# Create a DataFrame to store the results\n",
    "model_comp = pd.DataFrame(index=['OLS', 'Ridge', 'Kernel'], columns=['MSE', 'R-squared', 'Max Error'])\n",
    "\n",
    "# Store the results in the DataFrame\n",
    "model_comp.loc['OLS'] = [mse_linear, r2_linear, maxE_linear]\n",
    "model_comp.loc['Ridge'] = [mse_ridge, r2_ridge, maxE_ridge]\n",
    "model_comp.loc['Kernel'] = [mse_kernel, r2_kernel, maxE_kernel]\n",
    "model_comp"
   ]
  },
  {
   "cell_type": "code",
   "execution_count": null,
   "id": "74cd14bc",
   "metadata": {},
   "outputs": [],
   "source": []
  }
 ],
 "metadata": {
  "kernelspec": {
   "display_name": "Python 3 (ipykernel)",
   "language": "python",
   "name": "python3"
  },
  "language_info": {
   "codemirror_mode": {
    "name": "ipython",
    "version": 3
   },
   "file_extension": ".py",
   "mimetype": "text/x-python",
   "name": "python",
   "nbconvert_exporter": "python",
   "pygments_lexer": "ipython3",
   "version": "3.8.12"
  }
 },
 "nbformat": 4,
 "nbformat_minor": 5
}
