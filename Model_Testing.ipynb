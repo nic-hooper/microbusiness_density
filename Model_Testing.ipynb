{
 "cells": [
  {
   "cell_type": "code",
   "execution_count": 5,
   "id": "c4dc95d5",
   "metadata": {},
   "outputs": [],
   "source": [
    "import joblib\n",
    "import pandas as pd\n",
    "from sklearn.ensemble import GradientBoostingRegressor, HistGradientBoostingRegressor\n",
    "import numpy as np\n",
    "\n",
    "actual_test = 'revealed_test.csv'\n",
    "actual = pd.read_csv(actual_test)\n",
    "\n",
    "model_filename = 'hist_gradient_model.joblib'\n",
    "loaded_model = joblib.load(model_filename)\n",
    "\n",
    "mbd = pd.read_csv(\"MBD_CFIP_20monthlag.csv\")\n",
    "\n"
   ]
  },
  {
   "cell_type": "code",
   "execution_count": 6,
   "id": "43b246f1",
   "metadata": {},
   "outputs": [
    {
     "name": "stdout",
     "output_type": "stream",
     "text": [
      "Overall Model Test SMAPE: 3.2944799410488823\n",
      "First Month Model Test SMAPE: 2.8239747409192524\n",
      "Second Month Model Test SMAPE: 3.7649851411785202\n"
     ]
    }
   ],
   "source": [
    "\n",
    "# get only the last segment of months from the dataframe, for each county\n",
    "mbd = mbd[mbd['FirstDateOrder'] == 16]\n",
    "# this is because we have the dataframe setup as having 20 regressors for 1 target\n",
    "# we want the 20 regressors. This also means our 'firstdateorder' is +1\n",
    "mbd['FirstDateOrder'] += 1\n",
    "mbd = mbd.drop(columns=['MBD_0'], axis=1)\n",
    "\n",
    "mbd_np = mbd.to_numpy()\n",
    "# we want the last 20 \n",
    "# this is predicting the first month of unknown\n",
    "predicted0 = loaded_model.predict(mbd_np[:,-20:])\n",
    "# add the first predicted month to the array\n",
    "mbd_np = np.hstack((mbd_np, predicted0.reshape(-1,1)))\n",
    "# now we want to predict the 2nd month of unknwon\n",
    "predicted1 = loaded_model.predict(mbd_np[:,-20:])\n",
    "\n",
    "mbd_np = np.hstack((mbd_np, predicted1.reshape(-1,1)))\n",
    "\n",
    "\n",
    "\n",
    "new_colnames = list(mbd.columns) + ['P_MBD_21','P_MBD_22']\n",
    "mbd_with_preds = pd.DataFrame(mbd_np, columns=new_colnames)\n",
    "\n",
    "mbd_original_form = mbd_with_preds.loc[:,['CFIP','P_MBD_21','P_MBD_22']]\n",
    "\n",
    "mbd_original_form = mbd_original_form.melt(id_vars=['CFIP'], value_vars=['P_MBD_21', 'P_MBD_22'], var_name=['Month'], value_name='MBD')\n",
    "mbd_original_form['Month'] = mbd_original_form['Month'].replace('P_MBD_21', '2022-11-01')\n",
    "mbd_original_form['Month'] = mbd_original_form['Month'].replace('P_MBD_22', '2022-12-01')\n",
    "\n",
    "# join mbd_original_form onto \n",
    "\n",
    "mbd_to_compare = pd.merge(actual, mbd_original_form, left_on=['cfips','first_day_of_month'], right_on=['CFIP','Month'])\n",
    "def smape(y_test, y_pred):\n",
    "    numerator = np.abs(y_test-y_pred)\n",
    "    denominator = (y_test + np.abs(y_pred)) /200\n",
    "    return np.mean(np.divide(numerator,denominator))\n",
    "\n",
    "smape_overall = smape(mbd_to_compare['microbusiness_density'],mbd_to_compare['MBD'])\n",
    "first_month_to_compare = mbd_to_compare[mbd_to_compare['first_day_of_month'] == '2022-11-01']\n",
    "smape_first = smape(first_month_to_compare['microbusiness_density'],first_month_to_compare['MBD'])\n",
    "second_month_to_compare = mbd_to_compare[mbd_to_compare['first_day_of_month'] == '2022-12-01']\n",
    "smape_second = smape(second_month_to_compare['microbusiness_density'],second_month_to_compare['MBD'])\n",
    "\n",
    "print('Overall Model Test SMAPE: {}'.format(smape_overall))\n",
    "print('First Month Model Test SMAPE: {}'.format(smape_first))\n",
    "print('Second Month Model Test SMAPE: {}'.format(smape_second))\n"
   ]
  },
  {
   "cell_type": "code",
   "execution_count": null,
   "id": "d9600c9f",
   "metadata": {},
   "outputs": [],
   "source": []
  }
 ],
 "metadata": {
  "kernelspec": {
   "display_name": "Python 3 (ipykernel)",
   "language": "python",
   "name": "python3"
  },
  "language_info": {
   "codemirror_mode": {
    "name": "ipython",
    "version": 3
   },
   "file_extension": ".py",
   "mimetype": "text/x-python",
   "name": "python",
   "nbconvert_exporter": "python",
   "pygments_lexer": "ipython3",
   "version": "3.8.12"
  }
 },
 "nbformat": 4,
 "nbformat_minor": 5
}
